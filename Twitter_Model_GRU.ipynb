{
  "nbformat": 4,
  "nbformat_minor": 0,
  "metadata": {
    "colab": {
      "provenance": [],
      "gpuType": "T4",
      "include_colab_link": true
    },
    "kernelspec": {
      "name": "python3",
      "display_name": "Python 3"
    },
    "language_info": {
      "name": "python"
    },
    "accelerator": "GPU"
  },
  "cells": [
    {
      "cell_type": "markdown",
      "metadata": {
        "id": "view-in-github",
        "colab_type": "text"
      },
      "source": [
        "<a href=\"https://colab.research.google.com/github/Guiillotine/SoftwareEngineering/blob/spirichev/Twitter_Model_GRU.ipynb\" target=\"_parent\"><img src=\"https://colab.research.google.com/assets/colab-badge.svg\" alt=\"Open In Colab\"/></a>"
      ]
    },
    {
      "cell_type": "markdown",
      "source": [
        "# Модель GRU"
      ],
      "metadata": {
        "id": "pMrEwZfcrThe"
      }
    },
    {
      "cell_type": "markdown",
      "source": [
        "Импорт библиотек:"
      ],
      "metadata": {
        "id": "mKyDzfO7rbsB"
      }
    },
    {
      "cell_type": "code",
      "source": [
        "# Cтандартные библиотеки для работы с массивами и табличными данными\n",
        "import numpy as np\n",
        "import pandas as pd\n",
        "# Для работы с регулярными выражениями\n",
        "import re\n",
        "# Для визуализации графиков\n",
        "import matplotlib.pyplot as plt\n",
        "# Библиотека для обработки естественного языка, включая работу со стоп-словами и лемматизацию\n",
        "import nltk\n",
        "from nltk.corpus import stopwords\n",
        "from nltk.stem import WordNetLemmatizer"
      ],
      "metadata": {
        "id": "dx8nuHRCsA59"
      },
      "execution_count": null,
      "outputs": []
    },
    {
      "cell_type": "code",
      "source": [
        "# Библиотека для построения и тренировки модели с использованием глубокого обучения, включая слои нейронной сети\n",
        "from tensorflow.keras.models import Sequential\n",
        "from tensorflow.keras.layers import Embedding, GRU, Dense, Dropout\n",
        "from tensorflow.keras.regularizers import l2\n",
        "from tensorflow.keras.preprocessing.text import Tokenizer\n",
        "from tensorflow.keras.preprocessing.sequence import pad_sequences\n",
        "from tensorflow.keras.callbacks import ModelCheckpoint, EarlyStopping"
      ],
      "metadata": {
        "id": "Dyr39HjxTnny"
      },
      "execution_count": null,
      "outputs": []
    },
    {
      "cell_type": "code",
      "source": [
        "# Библиотека для разделения данных на обучающую и тестовую выборки, балансировки классов и вычисления метрик\n",
        "from sklearn.model_selection import train_test_split\n",
        "from sklearn.utils import resample\n",
        "from sklearn.metrics import classification_report, confusion_matrix"
      ],
      "metadata": {
        "id": "XMcrZrUjv1aV"
      },
      "execution_count": null,
      "outputs": []
    },
    {
      "cell_type": "markdown",
      "source": [
        "Загрузка ресурсов NLTK:"
      ],
      "metadata": {
        "id": "8o7XsF8twJ99"
      }
    },
    {
      "cell_type": "code",
      "source": [
        "# Cкачивание необходимых данных для лемматизации и работы со стоп-словами\n",
        "nltk.download('wordnet')\n",
        "nltk.download('stopwords')"
      ],
      "metadata": {
        "colab": {
          "base_uri": "https://localhost:8080/"
        },
        "id": "o7kHMktjyHpY",
        "outputId": "190a1936-dbc9-440f-a6b3-1995d8e2a7c4"
      },
      "execution_count": null,
      "outputs": [
        {
          "output_type": "stream",
          "name": "stderr",
          "text": [
            "[nltk_data] Downloading package wordnet to /root/nltk_data...\n",
            "[nltk_data]   Package wordnet is already up-to-date!\n",
            "[nltk_data] Downloading package stopwords to /root/nltk_data...\n",
            "[nltk_data]   Package stopwords is already up-to-date!\n"
          ]
        },
        {
          "output_type": "execute_result",
          "data": {
            "text/plain": [
              "True"
            ]
          },
          "metadata": {},
          "execution_count": 82
        }
      ]
    },
    {
      "cell_type": "markdown",
      "source": [
        "Инициализация инструментов для обработки текста:"
      ],
      "metadata": {
        "id": "Z71pDdk-wMDa"
      }
    },
    {
      "cell_type": "code",
      "source": [
        "lemmatizer = WordNetLemmatizer()\n",
        "stop_words = set(stopwords.words('english'))"
      ],
      "metadata": {
        "id": "BDUxQLlFwOcS"
      },
      "execution_count": null,
      "outputs": []
    },
    {
      "cell_type": "markdown",
      "source": [
        "## Загрузка данных"
      ],
      "metadata": {
        "id": "iNRVBNUIUBLP"
      }
    },
    {
      "cell_type": "markdown",
      "source": [
        "Загрузка нужных для обучения файлов:"
      ],
      "metadata": {
        "id": "SIxNtjsQZ7Pw"
      }
    },
    {
      "cell_type": "code",
      "source": [
        "# Функция для чтения CSV-файлов по ссылке. В URL заменяется часть для получения прямого доступа\n",
        "def readCsvByLink(url):\n",
        "  url='https://drive.google.com/uc?id=' + url.split('/')[-2] # Извлекаем id файла\n",
        "  return pd.read_csv(url)"
      ],
      "metadata": {
        "id": "bdIMyQr3bX8v"
      },
      "execution_count": null,
      "outputs": []
    },
    {
      "cell_type": "code",
      "source": [
        "# Загрузка обучающего и тестового наборов данных из Google Drive\n",
        "train_df = readCsvByLink(\"https://drive.google.com/file/d/10_zwLLKTklGvnZpTXJYWouPmGmVt5Je_/view?usp=drive_link\")\n",
        "test_df = readCsvByLink(\"https://drive.google.com/file/d/17epsBjuyGCkBbNMtyyOo6DJTfeTW-am_/view?usp=drive_link\")"
      ],
      "metadata": {
        "id": "pERFqAOYbyK5"
      },
      "execution_count": null,
      "outputs": []
    },
    {
      "cell_type": "code",
      "source": [
        "f\"Постов для обучения: {train_df.shape[0]}, для тестирования: {str(test_df.shape[0])}\""
      ],
      "metadata": {
        "colab": {
          "base_uri": "https://localhost:8080/",
          "height": 35
        },
        "id": "VN8Nng9sYErb",
        "outputId": "8655ecf0-b8ee-433b-b2c8-aca3c8f9c560"
      },
      "execution_count": null,
      "outputs": [
        {
          "output_type": "execute_result",
          "data": {
            "text/plain": [
              "'Постов для обучения: 7613, для тестирования: 3263'"
            ],
            "application/vnd.google.colaboratory.intrinsic+json": {
              "type": "string"
            }
          },
          "metadata": {},
          "execution_count": 86
        }
      ]
    },
    {
      "cell_type": "code",
      "source": [
        "train_df[[\"text\", \"target\"]]"
      ],
      "metadata": {
        "colab": {
          "base_uri": "https://localhost:8080/",
          "height": 424
        },
        "id": "w59ceHa8I5XU",
        "outputId": "f45ec93c-a4bd-4622-c24c-6b07719d2d34"
      },
      "execution_count": null,
      "outputs": [
        {
          "output_type": "execute_result",
          "data": {
            "text/plain": [
              "                                                   text  target\n",
              "0     Our Deeds are the Reason of this #earthquake M...       1\n",
              "1                Forest fire near La Ronge Sask. Canada       1\n",
              "2     All residents asked to 'shelter in place' are ...       1\n",
              "3     13,000 people receive #wildfires evacuation or...       1\n",
              "4     Just got sent this photo from Ruby #Alaska as ...       1\n",
              "...                                                 ...     ...\n",
              "7608  Two giant cranes holding a bridge collapse int...       1\n",
              "7609  @aria_ahrary @TheTawniest The out of control w...       1\n",
              "7610  M1.94 [01:04 UTC]?5km S of Volcano Hawaii. htt...       1\n",
              "7611  Police investigating after an e-bike collided ...       1\n",
              "7612  The Latest: More Homes Razed by Northern Calif...       1\n",
              "\n",
              "[7613 rows x 2 columns]"
            ],
            "text/html": [
              "\n",
              "  <div id=\"df-8bbdec4a-326f-43b2-95ec-581030cdebf2\" class=\"colab-df-container\">\n",
              "    <div>\n",
              "<style scoped>\n",
              "    .dataframe tbody tr th:only-of-type {\n",
              "        vertical-align: middle;\n",
              "    }\n",
              "\n",
              "    .dataframe tbody tr th {\n",
              "        vertical-align: top;\n",
              "    }\n",
              "\n",
              "    .dataframe thead th {\n",
              "        text-align: right;\n",
              "    }\n",
              "</style>\n",
              "<table border=\"1\" class=\"dataframe\">\n",
              "  <thead>\n",
              "    <tr style=\"text-align: right;\">\n",
              "      <th></th>\n",
              "      <th>text</th>\n",
              "      <th>target</th>\n",
              "    </tr>\n",
              "  </thead>\n",
              "  <tbody>\n",
              "    <tr>\n",
              "      <th>0</th>\n",
              "      <td>Our Deeds are the Reason of this #earthquake M...</td>\n",
              "      <td>1</td>\n",
              "    </tr>\n",
              "    <tr>\n",
              "      <th>1</th>\n",
              "      <td>Forest fire near La Ronge Sask. Canada</td>\n",
              "      <td>1</td>\n",
              "    </tr>\n",
              "    <tr>\n",
              "      <th>2</th>\n",
              "      <td>All residents asked to 'shelter in place' are ...</td>\n",
              "      <td>1</td>\n",
              "    </tr>\n",
              "    <tr>\n",
              "      <th>3</th>\n",
              "      <td>13,000 people receive #wildfires evacuation or...</td>\n",
              "      <td>1</td>\n",
              "    </tr>\n",
              "    <tr>\n",
              "      <th>4</th>\n",
              "      <td>Just got sent this photo from Ruby #Alaska as ...</td>\n",
              "      <td>1</td>\n",
              "    </tr>\n",
              "    <tr>\n",
              "      <th>...</th>\n",
              "      <td>...</td>\n",
              "      <td>...</td>\n",
              "    </tr>\n",
              "    <tr>\n",
              "      <th>7608</th>\n",
              "      <td>Two giant cranes holding a bridge collapse int...</td>\n",
              "      <td>1</td>\n",
              "    </tr>\n",
              "    <tr>\n",
              "      <th>7609</th>\n",
              "      <td>@aria_ahrary @TheTawniest The out of control w...</td>\n",
              "      <td>1</td>\n",
              "    </tr>\n",
              "    <tr>\n",
              "      <th>7610</th>\n",
              "      <td>M1.94 [01:04 UTC]?5km S of Volcano Hawaii. htt...</td>\n",
              "      <td>1</td>\n",
              "    </tr>\n",
              "    <tr>\n",
              "      <th>7611</th>\n",
              "      <td>Police investigating after an e-bike collided ...</td>\n",
              "      <td>1</td>\n",
              "    </tr>\n",
              "    <tr>\n",
              "      <th>7612</th>\n",
              "      <td>The Latest: More Homes Razed by Northern Calif...</td>\n",
              "      <td>1</td>\n",
              "    </tr>\n",
              "  </tbody>\n",
              "</table>\n",
              "<p>7613 rows × 2 columns</p>\n",
              "</div>\n",
              "    <div class=\"colab-df-buttons\">\n",
              "\n",
              "  <div class=\"colab-df-container\">\n",
              "    <button class=\"colab-df-convert\" onclick=\"convertToInteractive('df-8bbdec4a-326f-43b2-95ec-581030cdebf2')\"\n",
              "            title=\"Convert this dataframe to an interactive table.\"\n",
              "            style=\"display:none;\">\n",
              "\n",
              "  <svg xmlns=\"http://www.w3.org/2000/svg\" height=\"24px\" viewBox=\"0 -960 960 960\">\n",
              "    <path d=\"M120-120v-720h720v720H120Zm60-500h600v-160H180v160Zm220 220h160v-160H400v160Zm0 220h160v-160H400v160ZM180-400h160v-160H180v160Zm440 0h160v-160H620v160ZM180-180h160v-160H180v160Zm440 0h160v-160H620v160Z\"/>\n",
              "  </svg>\n",
              "    </button>\n",
              "\n",
              "  <style>\n",
              "    .colab-df-container {\n",
              "      display:flex;\n",
              "      gap: 12px;\n",
              "    }\n",
              "\n",
              "    .colab-df-convert {\n",
              "      background-color: #E8F0FE;\n",
              "      border: none;\n",
              "      border-radius: 50%;\n",
              "      cursor: pointer;\n",
              "      display: none;\n",
              "      fill: #1967D2;\n",
              "      height: 32px;\n",
              "      padding: 0 0 0 0;\n",
              "      width: 32px;\n",
              "    }\n",
              "\n",
              "    .colab-df-convert:hover {\n",
              "      background-color: #E2EBFA;\n",
              "      box-shadow: 0px 1px 2px rgba(60, 64, 67, 0.3), 0px 1px 3px 1px rgba(60, 64, 67, 0.15);\n",
              "      fill: #174EA6;\n",
              "    }\n",
              "\n",
              "    .colab-df-buttons div {\n",
              "      margin-bottom: 4px;\n",
              "    }\n",
              "\n",
              "    [theme=dark] .colab-df-convert {\n",
              "      background-color: #3B4455;\n",
              "      fill: #D2E3FC;\n",
              "    }\n",
              "\n",
              "    [theme=dark] .colab-df-convert:hover {\n",
              "      background-color: #434B5C;\n",
              "      box-shadow: 0px 1px 3px 1px rgba(0, 0, 0, 0.15);\n",
              "      filter: drop-shadow(0px 1px 2px rgba(0, 0, 0, 0.3));\n",
              "      fill: #FFFFFF;\n",
              "    }\n",
              "  </style>\n",
              "\n",
              "    <script>\n",
              "      const buttonEl =\n",
              "        document.querySelector('#df-8bbdec4a-326f-43b2-95ec-581030cdebf2 button.colab-df-convert');\n",
              "      buttonEl.style.display =\n",
              "        google.colab.kernel.accessAllowed ? 'block' : 'none';\n",
              "\n",
              "      async function convertToInteractive(key) {\n",
              "        const element = document.querySelector('#df-8bbdec4a-326f-43b2-95ec-581030cdebf2');\n",
              "        const dataTable =\n",
              "          await google.colab.kernel.invokeFunction('convertToInteractive',\n",
              "                                                    [key], {});\n",
              "        if (!dataTable) return;\n",
              "\n",
              "        const docLinkHtml = 'Like what you see? Visit the ' +\n",
              "          '<a target=\"_blank\" href=https://colab.research.google.com/notebooks/data_table.ipynb>data table notebook</a>'\n",
              "          + ' to learn more about interactive tables.';\n",
              "        element.innerHTML = '';\n",
              "        dataTable['output_type'] = 'display_data';\n",
              "        await google.colab.output.renderOutput(dataTable, element);\n",
              "        const docLink = document.createElement('div');\n",
              "        docLink.innerHTML = docLinkHtml;\n",
              "        element.appendChild(docLink);\n",
              "      }\n",
              "    </script>\n",
              "  </div>\n",
              "\n",
              "\n",
              "<div id=\"df-bf32503d-6fb7-47a4-a4aa-9a69bbe73b86\">\n",
              "  <button class=\"colab-df-quickchart\" onclick=\"quickchart('df-bf32503d-6fb7-47a4-a4aa-9a69bbe73b86')\"\n",
              "            title=\"Suggest charts\"\n",
              "            style=\"display:none;\">\n",
              "\n",
              "<svg xmlns=\"http://www.w3.org/2000/svg\" height=\"24px\"viewBox=\"0 0 24 24\"\n",
              "     width=\"24px\">\n",
              "    <g>\n",
              "        <path d=\"M19 3H5c-1.1 0-2 .9-2 2v14c0 1.1.9 2 2 2h14c1.1 0 2-.9 2-2V5c0-1.1-.9-2-2-2zM9 17H7v-7h2v7zm4 0h-2V7h2v10zm4 0h-2v-4h2v4z\"/>\n",
              "    </g>\n",
              "</svg>\n",
              "  </button>\n",
              "\n",
              "<style>\n",
              "  .colab-df-quickchart {\n",
              "      --bg-color: #E8F0FE;\n",
              "      --fill-color: #1967D2;\n",
              "      --hover-bg-color: #E2EBFA;\n",
              "      --hover-fill-color: #174EA6;\n",
              "      --disabled-fill-color: #AAA;\n",
              "      --disabled-bg-color: #DDD;\n",
              "  }\n",
              "\n",
              "  [theme=dark] .colab-df-quickchart {\n",
              "      --bg-color: #3B4455;\n",
              "      --fill-color: #D2E3FC;\n",
              "      --hover-bg-color: #434B5C;\n",
              "      --hover-fill-color: #FFFFFF;\n",
              "      --disabled-bg-color: #3B4455;\n",
              "      --disabled-fill-color: #666;\n",
              "  }\n",
              "\n",
              "  .colab-df-quickchart {\n",
              "    background-color: var(--bg-color);\n",
              "    border: none;\n",
              "    border-radius: 50%;\n",
              "    cursor: pointer;\n",
              "    display: none;\n",
              "    fill: var(--fill-color);\n",
              "    height: 32px;\n",
              "    padding: 0;\n",
              "    width: 32px;\n",
              "  }\n",
              "\n",
              "  .colab-df-quickchart:hover {\n",
              "    background-color: var(--hover-bg-color);\n",
              "    box-shadow: 0 1px 2px rgba(60, 64, 67, 0.3), 0 1px 3px 1px rgba(60, 64, 67, 0.15);\n",
              "    fill: var(--button-hover-fill-color);\n",
              "  }\n",
              "\n",
              "  .colab-df-quickchart-complete:disabled,\n",
              "  .colab-df-quickchart-complete:disabled:hover {\n",
              "    background-color: var(--disabled-bg-color);\n",
              "    fill: var(--disabled-fill-color);\n",
              "    box-shadow: none;\n",
              "  }\n",
              "\n",
              "  .colab-df-spinner {\n",
              "    border: 2px solid var(--fill-color);\n",
              "    border-color: transparent;\n",
              "    border-bottom-color: var(--fill-color);\n",
              "    animation:\n",
              "      spin 1s steps(1) infinite;\n",
              "  }\n",
              "\n",
              "  @keyframes spin {\n",
              "    0% {\n",
              "      border-color: transparent;\n",
              "      border-bottom-color: var(--fill-color);\n",
              "      border-left-color: var(--fill-color);\n",
              "    }\n",
              "    20% {\n",
              "      border-color: transparent;\n",
              "      border-left-color: var(--fill-color);\n",
              "      border-top-color: var(--fill-color);\n",
              "    }\n",
              "    30% {\n",
              "      border-color: transparent;\n",
              "      border-left-color: var(--fill-color);\n",
              "      border-top-color: var(--fill-color);\n",
              "      border-right-color: var(--fill-color);\n",
              "    }\n",
              "    40% {\n",
              "      border-color: transparent;\n",
              "      border-right-color: var(--fill-color);\n",
              "      border-top-color: var(--fill-color);\n",
              "    }\n",
              "    60% {\n",
              "      border-color: transparent;\n",
              "      border-right-color: var(--fill-color);\n",
              "    }\n",
              "    80% {\n",
              "      border-color: transparent;\n",
              "      border-right-color: var(--fill-color);\n",
              "      border-bottom-color: var(--fill-color);\n",
              "    }\n",
              "    90% {\n",
              "      border-color: transparent;\n",
              "      border-bottom-color: var(--fill-color);\n",
              "    }\n",
              "  }\n",
              "</style>\n",
              "\n",
              "  <script>\n",
              "    async function quickchart(key) {\n",
              "      const quickchartButtonEl =\n",
              "        document.querySelector('#' + key + ' button');\n",
              "      quickchartButtonEl.disabled = true;  // To prevent multiple clicks.\n",
              "      quickchartButtonEl.classList.add('colab-df-spinner');\n",
              "      try {\n",
              "        const charts = await google.colab.kernel.invokeFunction(\n",
              "            'suggestCharts', [key], {});\n",
              "      } catch (error) {\n",
              "        console.error('Error during call to suggestCharts:', error);\n",
              "      }\n",
              "      quickchartButtonEl.classList.remove('colab-df-spinner');\n",
              "      quickchartButtonEl.classList.add('colab-df-quickchart-complete');\n",
              "    }\n",
              "    (() => {\n",
              "      let quickchartButtonEl =\n",
              "        document.querySelector('#df-bf32503d-6fb7-47a4-a4aa-9a69bbe73b86 button');\n",
              "      quickchartButtonEl.style.display =\n",
              "        google.colab.kernel.accessAllowed ? 'block' : 'none';\n",
              "    })();\n",
              "  </script>\n",
              "</div>\n",
              "    </div>\n",
              "  </div>\n"
            ],
            "application/vnd.google.colaboratory.intrinsic+json": {
              "type": "dataframe",
              "summary": "{\n  \"name\": \"train_df[[\\\"text\\\", \\\"target\\\"]]\",\n  \"rows\": 7613,\n  \"fields\": [\n    {\n      \"column\": \"text\",\n      \"properties\": {\n        \"dtype\": \"string\",\n        \"num_unique_values\": 7503,\n        \"samples\": [\n          \"Three Homes Demolished in Unrecognized Arab Village - International Middle East Media Center http://t.co/ik8m4Yi9T4\",\n          \"Reid Lake fire prompts campground evacuation order http://t.co/jBODKM6rBU\",\n          \"FAAN orders evacuation of abandoned aircraft at MMA http://t.co/dEvYbnVXGQ via @todayng\"\n        ],\n        \"semantic_type\": \"\",\n        \"description\": \"\"\n      }\n    },\n    {\n      \"column\": \"target\",\n      \"properties\": {\n        \"dtype\": \"number\",\n        \"std\": 0,\n        \"min\": 0,\n        \"max\": 1,\n        \"num_unique_values\": 2,\n        \"samples\": [\n          0,\n          1\n        ],\n        \"semantic_type\": \"\",\n        \"description\": \"\"\n      }\n    }\n  ]\n}"
            }
          },
          "metadata": {},
          "execution_count": 87
        }
      ]
    },
    {
      "cell_type": "code",
      "source": [
        "test_df[\"text\"]"
      ],
      "metadata": {
        "colab": {
          "base_uri": "https://localhost:8080/",
          "height": 458
        },
        "id": "HrYC-6h_SoNA",
        "outputId": "8e5e6a6a-c152-4a76-9cc2-409d77334c21"
      },
      "execution_count": null,
      "outputs": [
        {
          "output_type": "execute_result",
          "data": {
            "text/plain": [
              "0                      Just happened a terrible car crash\n",
              "1       Heard about #earthquake is different cities, s...\n",
              "2       there is a forest fire at spot pond, geese are...\n",
              "3                Apocalypse lighting. #Spokane #wildfires\n",
              "4           Typhoon Soudelor kills 28 in China and Taiwan\n",
              "                              ...                        \n",
              "3258    EARTHQUAKE SAFETY LOS ANGELES ÛÒ SAFETY FASTE...\n",
              "3259    Storm in RI worse than last hurricane. My city...\n",
              "3260    Green Line derailment in Chicago http://t.co/U...\n",
              "3261    MEG issues Hazardous Weather Outlook (HWO) htt...\n",
              "3262    #CityofCalgary has activated its Municipal Eme...\n",
              "Name: text, Length: 3263, dtype: object"
            ],
            "text/html": [
              "<div>\n",
              "<style scoped>\n",
              "    .dataframe tbody tr th:only-of-type {\n",
              "        vertical-align: middle;\n",
              "    }\n",
              "\n",
              "    .dataframe tbody tr th {\n",
              "        vertical-align: top;\n",
              "    }\n",
              "\n",
              "    .dataframe thead th {\n",
              "        text-align: right;\n",
              "    }\n",
              "</style>\n",
              "<table border=\"1\" class=\"dataframe\">\n",
              "  <thead>\n",
              "    <tr style=\"text-align: right;\">\n",
              "      <th></th>\n",
              "      <th>text</th>\n",
              "    </tr>\n",
              "  </thead>\n",
              "  <tbody>\n",
              "    <tr>\n",
              "      <th>0</th>\n",
              "      <td>Just happened a terrible car crash</td>\n",
              "    </tr>\n",
              "    <tr>\n",
              "      <th>1</th>\n",
              "      <td>Heard about #earthquake is different cities, s...</td>\n",
              "    </tr>\n",
              "    <tr>\n",
              "      <th>2</th>\n",
              "      <td>there is a forest fire at spot pond, geese are...</td>\n",
              "    </tr>\n",
              "    <tr>\n",
              "      <th>3</th>\n",
              "      <td>Apocalypse lighting. #Spokane #wildfires</td>\n",
              "    </tr>\n",
              "    <tr>\n",
              "      <th>4</th>\n",
              "      <td>Typhoon Soudelor kills 28 in China and Taiwan</td>\n",
              "    </tr>\n",
              "    <tr>\n",
              "      <th>...</th>\n",
              "      <td>...</td>\n",
              "    </tr>\n",
              "    <tr>\n",
              "      <th>3258</th>\n",
              "      <td>EARTHQUAKE SAFETY LOS ANGELES ÛÒ SAFETY FASTE...</td>\n",
              "    </tr>\n",
              "    <tr>\n",
              "      <th>3259</th>\n",
              "      <td>Storm in RI worse than last hurricane. My city...</td>\n",
              "    </tr>\n",
              "    <tr>\n",
              "      <th>3260</th>\n",
              "      <td>Green Line derailment in Chicago http://t.co/U...</td>\n",
              "    </tr>\n",
              "    <tr>\n",
              "      <th>3261</th>\n",
              "      <td>MEG issues Hazardous Weather Outlook (HWO) htt...</td>\n",
              "    </tr>\n",
              "    <tr>\n",
              "      <th>3262</th>\n",
              "      <td>#CityofCalgary has activated its Municipal Eme...</td>\n",
              "    </tr>\n",
              "  </tbody>\n",
              "</table>\n",
              "<p>3263 rows × 1 columns</p>\n",
              "</div><br><label><b>dtype:</b> object</label>"
            ]
          },
          "metadata": {},
          "execution_count": 88
        }
      ]
    },
    {
      "cell_type": "markdown",
      "source": [
        "## Очистка данных"
      ],
      "metadata": {
        "id": "Br2y_IRVxynY"
      }
    },
    {
      "cell_type": "markdown",
      "source": [
        "Функция очищает текст от всего, что не является буквами (с помощью регулярных выражений):"
      ],
      "metadata": {
        "id": "cjsA0BboxFSG"
      }
    },
    {
      "cell_type": "code",
      "source": [
        "# Функция приводит текст к нижнему регистру, лемматизирует каждое слово, удаляя стоп-слова и слова длиной менее 3 символов\n",
        "def clean_text(texts):\n",
        "    cleaned_texts = []\n",
        "    for text in texts:\n",
        "        if not isinstance(text, str):\n",
        "            text = \"\"\n",
        "        text = re.sub(r'[^a-zA-Z]', ' ', text)  # Удаление символов\n",
        "        text = text.lower()\n",
        "        words = text.split()\n",
        "        words = [lemmatizer.lemmatize(word) for word in words if word not in stop_words and len(word) > 2]\n",
        "        cleaned_texts.append(' '.join(words))\n",
        "    return cleaned_texts"
      ],
      "metadata": {
        "id": "WLzhZ4bHx08J"
      },
      "execution_count": null,
      "outputs": []
    },
    {
      "cell_type": "markdown",
      "source": [
        "Применение функции к столбцам:"
      ],
      "metadata": {
        "id": "znsEyyMwusDV"
      }
    },
    {
      "cell_type": "code",
      "source": [
        "train_texts = clean_text(train_df['text'])\n",
        "test_texts = clean_text(test_df['text'])"
      ],
      "metadata": {
        "id": "sHOvZXiAx40Z"
      },
      "execution_count": null,
      "outputs": []
    },
    {
      "cell_type": "markdown",
      "source": [
        "## Подготовка данных"
      ],
      "metadata": {
        "id": "UTpCZhCJUK7q"
      }
    },
    {
      "cell_type": "markdown",
      "source": [
        "Параметры токенизации:"
      ],
      "metadata": {
        "id": "Qps0psl6ux-R"
      }
    },
    {
      "cell_type": "code",
      "source": [
        "num_words = 10000  # Максимальное количество слов\n",
        "max_post_len = 200  # Максимальная длина текстов"
      ],
      "metadata": {
        "id": "2lmeRy3fZxb0"
      },
      "execution_count": null,
      "outputs": []
    },
    {
      "cell_type": "markdown",
      "source": [
        "Токенизация текста:"
      ],
      "metadata": {
        "id": "Dmd2-6cUu11c"
      }
    },
    {
      "cell_type": "code",
      "source": [
        "tokenizer = Tokenizer(num_words=num_words) # Создается токенизатор, который преобразует текст в последовательности индексов слов\n",
        "tokenizer.fit_on_texts(train_texts) # Обучение токенизатора на текстах обучающего набора данных"
      ],
      "metadata": {
        "id": "bl3RXdjeVbwa"
      },
      "execution_count": null,
      "outputs": []
    },
    {
      "cell_type": "markdown",
      "source": [
        "Пример:"
      ],
      "metadata": {
        "id": "RhOSBWAqyG41"
      }
    },
    {
      "cell_type": "code",
      "source": [
        "list(tokenizer.word_index.items())[:20] # 20 наиболее часто встерчающихся слов и соответствующие им номера"
      ],
      "metadata": {
        "colab": {
          "base_uri": "https://localhost:8080/"
        },
        "id": "MFb8im-kt0UD",
        "outputId": "c74aa0b4-c048-4995-df26-6b035a63b34c"
      },
      "execution_count": null,
      "outputs": [
        {
          "output_type": "execute_result",
          "data": {
            "text/plain": [
              "[('http', 1),\n",
              " ('fire', 2),\n",
              " ('like', 3),\n",
              " ('amp', 4),\n",
              " ('get', 5),\n",
              " ('new', 6),\n",
              " ('via', 7),\n",
              " ('news', 8),\n",
              " ('one', 9),\n",
              " ('people', 10),\n",
              " ('time', 11),\n",
              " ('year', 12),\n",
              " ('video', 13),\n",
              " ('disaster', 14),\n",
              " ('emergency', 15),\n",
              " ('body', 16),\n",
              " ('day', 17),\n",
              " ('home', 18),\n",
              " ('police', 19),\n",
              " ('building', 20)]"
            ]
          },
          "metadata": {},
          "execution_count": 93
        }
      ]
    },
    {
      "cell_type": "markdown",
      "source": [
        "Преобразование текстов в последовательности токенов с помощью:"
      ],
      "metadata": {
        "id": "h2gNGpqUu6aE"
      }
    },
    {
      "cell_type": "code",
      "source": [
        "x_train_seq = tokenizer.texts_to_sequences(train_texts)\n",
        "x_test_seq = tokenizer.texts_to_sequences(test_texts)"
      ],
      "metadata": {
        "id": "5SMshi64USPO"
      },
      "execution_count": null,
      "outputs": []
    },
    {
      "cell_type": "markdown",
      "source": [
        "Пример числового представления строки:"
      ],
      "metadata": {
        "id": "Ltr7p3_ou7nA"
      }
    },
    {
      "cell_type": "code",
      "source": [
        "print(x_train_seq[0],\"\\n\",train_texts[0])"
      ],
      "metadata": {
        "colab": {
          "base_uri": "https://localhost:8080/"
        },
        "id": "kxL5u6iCuFSp",
        "outputId": "dca2a47b-9f09-4aee-8376-e1107e352a9e"
      },
      "execution_count": null,
      "outputs": [
        {
          "output_type": "stream",
          "name": "stdout",
          "text": [
            "[3882, 448, 157, 64, 1358, 3883] \n",
            " deed reason earthquake may allah forgive\n"
          ]
        }
      ]
    },
    {
      "cell_type": "markdown",
      "source": [
        "Паддинг (выравнивание длины):"
      ],
      "metadata": {
        "id": "jZoRDI4ovAMa"
      }
    },
    {
      "cell_type": "code",
      "source": [
        "x_train_padded = pad_sequences(x_train_seq, maxlen=max_post_len)\n",
        "x_test_padded = pad_sequences(x_test_seq, maxlen=max_post_len)"
      ],
      "metadata": {
        "id": "yRF84ilFbDsM"
      },
      "execution_count": null,
      "outputs": []
    },
    {
      "cell_type": "markdown",
      "source": [
        "Создаем массив меток для обучающего набора данных, используя столбец target из DataFrame train_df:"
      ],
      "metadata": {
        "id": "b4ULr5f6vIHB"
      }
    },
    {
      "cell_type": "code",
      "source": [
        "y_train = train_df['target'].values"
      ],
      "metadata": {
        "id": "5exw_x5XcN6j"
      },
      "execution_count": null,
      "outputs": []
    },
    {
      "cell_type": "markdown",
      "source": [
        "Балансировка классов:"
      ],
      "metadata": {
        "id": "DxNH13vjzEFd"
      }
    },
    {
      "cell_type": "code",
      "source": [
        "# Процесс повторного добавления примеров с целевым значением 1 в обучающий набор, чтобы сбалансировать количество примеров с метками 0 и 1\n",
        "train_df_balanced = pd.concat([train_df, train_df[train_df['target'] == 1]])\n",
        "# Это делается с помощью функции resample(), что позволяет избежать проблемы несбалансированных классов при обучении\n",
        "train_df_balanced = resample(train_df_balanced, replace=True, n_samples=len(train_df_balanced), random_state=42)\n",
        "x_train_balanced = clean_text(train_df_balanced['text'])\n",
        "x_train_seq_balanced = tokenizer.texts_to_sequences(x_train_balanced)\n",
        "x_train_padded_balanced = pad_sequences(x_train_seq_balanced, maxlen=max_post_len)\n",
        "y_train_balanced = train_df_balanced['target'].values"
      ],
      "metadata": {
        "id": "Pw1xiRTjudSy"
      },
      "execution_count": null,
      "outputs": []
    },
    {
      "cell_type": "markdown",
      "source": [
        "Разделение на обучающую и валидационную выборки:"
      ],
      "metadata": {
        "id": "DDagiLK00jUx"
      }
    },
    {
      "cell_type": "code",
      "source": [
        "# Используется, чтобы разделить данные на обучающую и валидационную выборки (80% для обучения, 20% для валидации).\n",
        "x_train, x_val, y_train, y_val = train_test_split(\n",
        "    x_train_padded_balanced, y_train_balanced, test_size=0.2\n",
        ")"
      ],
      "metadata": {
        "id": "59ovrXF4xWzO"
      },
      "execution_count": null,
      "outputs": []
    },
    {
      "cell_type": "markdown",
      "source": [
        "## Создание модели"
      ],
      "metadata": {
        "id": "XwZjLoB1AgQw"
      }
    },
    {
      "cell_type": "markdown",
      "source": [
        "Построение модели:"
      ],
      "metadata": {
        "id": "K73nbtzm1oF2"
      }
    },
    {
      "cell_type": "code",
      "source": [
        "# Создание последовательной модели\n",
        "model = Sequential([\n",
        "    Embedding(input_dim=num_words, output_dim=100),  # Эмбеддинги слов\n",
        "    GRU(64, return_sequences=False),  # Модель GRU\n",
        "    Dense(1, activation='sigmoid')  # Выходной слой для бинарной классификации\n",
        "])"
      ],
      "metadata": {
        "id": "8gOsdoXAAmwj"
      },
      "execution_count": null,
      "outputs": []
    },
    {
      "cell_type": "markdown",
      "source": [
        "Компиляция модели:"
      ],
      "metadata": {
        "id": "gGa_o61s1kgx"
      }
    },
    {
      "cell_type": "code",
      "source": [
        "# Компиляция модели\n",
        "model.compile(\n",
        "    optimizer='adam', # Настройка оптимизатора\n",
        "    loss='binary_crossentropy', # Функции потерь\n",
        "    metrics=['accuracy'] # Метрики для оценки модели\n",
        ")"
      ],
      "metadata": {
        "id": "Bi_C17faAwT4"
      },
      "execution_count": null,
      "outputs": []
    },
    {
      "cell_type": "markdown",
      "source": [
        "## Обучение модели"
      ],
      "metadata": {
        "id": "nH5tSjX3A0tf"
      }
    },
    {
      "cell_type": "code",
      "source": [
        "# Использование обратных вызовов для сохранения наилучших весов модели и остановки обучения, если валидационная ошибка не улучшается.\n",
        "model_save_path = 'best_gru_model_balanced.keras'\n",
        "checkpoint = ModelCheckpoint(model_save_path, monitor='val_accuracy', save_best_only=True, verbose=1)\n",
        "early_stopping = EarlyStopping(monitor='val_loss', patience=3, restore_best_weights=True)"
      ],
      "metadata": {
        "id": "8cq_TlK5A27g"
      },
      "execution_count": null,
      "outputs": []
    },
    {
      "cell_type": "markdown",
      "source": [
        "В обучение модели задаются параметры для количества эпох, размера батча и валидационных данных:"
      ],
      "metadata": {
        "id": "nO-Dcn7W2tUR"
      }
    },
    {
      "cell_type": "code",
      "source": [
        "# Обучение модели\n",
        "history = model.fit(\n",
        "    x_train, y_train,\n",
        "    epochs=10,\n",
        "    batch_size=64,\n",
        "    validation_data=(x_val, y_val),\n",
        "    callbacks=[checkpoint, early_stopping],\n",
        "    verbose=1\n",
        ")"
      ],
      "metadata": {
        "colab": {
          "base_uri": "https://localhost:8080/"
        },
        "id": "fSl7ZxVVA44Z",
        "outputId": "1ea39ef3-72a5-4b4a-f77f-5aa878552a66"
      },
      "execution_count": null,
      "outputs": [
        {
          "output_type": "stream",
          "name": "stdout",
          "text": [
            "Epoch 1/10\n",
            "\u001b[1m134/137\u001b[0m \u001b[32m━━━━━━━━━━━━━━━━━━━\u001b[0m\u001b[37m━\u001b[0m \u001b[1m0s\u001b[0m 10ms/step - accuracy: 0.6639 - loss: 0.5822\n",
            "Epoch 1: val_accuracy improved from -inf to 0.86128, saving model to best_gru_model_balanced.keras\n",
            "\u001b[1m137/137\u001b[0m \u001b[32m━━━━━━━━━━━━━━━━━━━━\u001b[0m\u001b[37m\u001b[0m \u001b[1m3s\u001b[0m 13ms/step - accuracy: 0.6665 - loss: 0.5791 - val_accuracy: 0.8613 - val_loss: 0.3235\n",
            "Epoch 2/10\n",
            "\u001b[1m135/137\u001b[0m \u001b[32m━━━━━━━━━━━━━━━━━━━\u001b[0m\u001b[37m━\u001b[0m \u001b[1m0s\u001b[0m 10ms/step - accuracy: 0.9146 - loss: 0.2165\n",
            "Epoch 2: val_accuracy improved from 0.86128 to 0.88470, saving model to best_gru_model_balanced.keras\n",
            "\u001b[1m137/137\u001b[0m \u001b[32m━━━━━━━━━━━━━━━━━━━━\u001b[0m\u001b[37m\u001b[0m \u001b[1m2s\u001b[0m 11ms/step - accuracy: 0.9145 - loss: 0.2163 - val_accuracy: 0.8847 - val_loss: 0.3013\n",
            "Epoch 3/10\n",
            "\u001b[1m137/137\u001b[0m \u001b[32m━━━━━━━━━━━━━━━━━━━━\u001b[0m\u001b[37m\u001b[0m \u001b[1m0s\u001b[0m 9ms/step - accuracy: 0.9573 - loss: 0.1171\n",
            "Epoch 3: val_accuracy improved from 0.88470 to 0.89343, saving model to best_gru_model_balanced.keras\n",
            "\u001b[1m137/137\u001b[0m \u001b[32m━━━━━━━━━━━━━━━━━━━━\u001b[0m\u001b[37m\u001b[0m \u001b[1m3s\u001b[0m 11ms/step - accuracy: 0.9573 - loss: 0.1171 - val_accuracy: 0.8934 - val_loss: 0.3009\n",
            "Epoch 4/10\n",
            "\u001b[1m134/137\u001b[0m \u001b[32m━━━━━━━━━━━━━━━━━━━\u001b[0m\u001b[37m━\u001b[0m \u001b[1m0s\u001b[0m 13ms/step - accuracy: 0.9721 - loss: 0.0787\n",
            "Epoch 4: val_accuracy improved from 0.89343 to 0.89619, saving model to best_gru_model_balanced.keras\n",
            "\u001b[1m137/137\u001b[0m \u001b[32m━━━━━━━━━━━━━━━━━━━━\u001b[0m\u001b[37m\u001b[0m \u001b[1m3s\u001b[0m 15ms/step - accuracy: 0.9720 - loss: 0.0789 - val_accuracy: 0.8962 - val_loss: 0.3370\n",
            "Epoch 5/10\n",
            "\u001b[1m135/137\u001b[0m \u001b[32m━━━━━━━━━━━━━━━━━━━\u001b[0m\u001b[37m━\u001b[0m \u001b[1m0s\u001b[0m 9ms/step - accuracy: 0.9771 - loss: 0.0616\n",
            "Epoch 5: val_accuracy did not improve from 0.89619\n",
            "\u001b[1m137/137\u001b[0m \u001b[32m━━━━━━━━━━━━━━━━━━━━\u001b[0m\u001b[37m\u001b[0m \u001b[1m1s\u001b[0m 11ms/step - accuracy: 0.9770 - loss: 0.0618 - val_accuracy: 0.8957 - val_loss: 0.3407\n",
            "Epoch 6/10\n",
            "\u001b[1m135/137\u001b[0m \u001b[32m━━━━━━━━━━━━━━━━━━━\u001b[0m\u001b[37m━\u001b[0m \u001b[1m0s\u001b[0m 9ms/step - accuracy: 0.9791 - loss: 0.0598\n",
            "Epoch 6: val_accuracy improved from 0.89619 to 0.90537, saving model to best_gru_model_balanced.keras\n",
            "\u001b[1m137/137\u001b[0m \u001b[32m━━━━━━━━━━━━━━━━━━━━\u001b[0m\u001b[37m\u001b[0m \u001b[1m2s\u001b[0m 11ms/step - accuracy: 0.9792 - loss: 0.0598 - val_accuracy: 0.9054 - val_loss: 0.3446\n"
          ]
        }
      ]
    },
    {
      "cell_type": "markdown",
      "source": [
        "После обучения загружаются лучшие веса модели, сохраненные во время тренировки:"
      ],
      "metadata": {
        "id": "NL4hCxUHGojV"
      }
    },
    {
      "cell_type": "code",
      "source": [
        "# Загрузка лучших весов\n",
        "model.load_weights(model_save_path)"
      ],
      "metadata": {
        "id": "240s_9BSGXxo"
      },
      "execution_count": null,
      "outputs": []
    },
    {
      "cell_type": "markdown",
      "source": [
        "## Проверка на тестовых данных"
      ],
      "metadata": {
        "id": "3B-vrhwnrTSJ"
      }
    },
    {
      "cell_type": "markdown",
      "source": [
        "Использование обученной модели для предсказания классов на тестовой выборке:"
      ],
      "metadata": {
        "id": "lTHs_gOS3v_t"
      }
    },
    {
      "cell_type": "code",
      "source": [
        "# Предсказания на тестовой выборке\n",
        "predictions = model.predict(x_test_padded)\n",
        "binary_predictions = (predictions > 0.5).astype(int).flatten()"
      ],
      "metadata": {
        "id": "0yF82YgPrgga",
        "colab": {
          "base_uri": "https://localhost:8080/"
        },
        "outputId": "324929bd-9d2e-4d8f-a590-3b1b13f8de4f"
      },
      "execution_count": null,
      "outputs": [
        {
          "output_type": "stream",
          "name": "stdout",
          "text": [
            "\u001b[1m102/102\u001b[0m \u001b[32m━━━━━━━━━━━━━━━━━━━━\u001b[0m\u001b[37m\u001b[0m \u001b[1m1s\u001b[0m 6ms/step\n"
          ]
        }
      ]
    },
    {
      "cell_type": "markdown",
      "source": [
        "Результаты преобразуются в бинарные метки (0 или 1) с использованием порога 0.5."
      ],
      "metadata": {
        "id": "91M9X58f4I8v"
      }
    },
    {
      "cell_type": "markdown",
      "source": [
        "Сохранение результатов в CSV-файл:"
      ],
      "metadata": {
        "id": "HcoFkiaL4LYd"
      }
    },
    {
      "cell_type": "code",
      "source": [
        "# Сохранение предсказаний\n",
        "test_df['target'] = binary_predictions\n",
        "test_df[['id', 'target']].to_csv('submission.csv', index=False)"
      ],
      "metadata": {
        "id": "J12Nu78MvLPi"
      },
      "execution_count": null,
      "outputs": []
    },
    {
      "cell_type": "markdown",
      "source": [
        "## Оценка модели"
      ],
      "metadata": {
        "id": "COGrdL4D4Qog"
      }
    },
    {
      "cell_type": "markdown",
      "source": [
        "Вывод метрик классификации на валидационной выборке:"
      ],
      "metadata": {
        "id": "Gd-vMTui7wC7"
      }
    },
    {
      "cell_type": "code",
      "source": [
        "# Проверка метрик на валидационной выборке\n",
        "y_pred_val = (model.predict(x_val) > 0.5).astype(int).flatten()\n",
        "print(\"Показатели проверки:\")\n",
        "print(classification_report(y_val, y_pred_val))"
      ],
      "metadata": {
        "colab": {
          "base_uri": "https://localhost:8080/"
        },
        "id": "ARwk2PHqw3lp",
        "outputId": "d1e52d61-6731-4571-888d-0bc4f404ec09"
      },
      "execution_count": null,
      "outputs": [
        {
          "output_type": "stream",
          "name": "stdout",
          "text": [
            "\u001b[1m69/69\u001b[0m \u001b[32m━━━━━━━━━━━━━━━━━━━━\u001b[0m\u001b[37m\u001b[0m \u001b[1m0s\u001b[0m 5ms/step\n",
            "Показатели проверки:\n",
            "              precision    recall  f1-score   support\n",
            "\n",
            "           0       0.89      0.87      0.88       873\n",
            "           1       0.92      0.93      0.92      1304\n",
            "\n",
            "    accuracy                           0.91      2177\n",
            "   macro avg       0.90      0.90      0.90      2177\n",
            "weighted avg       0.91      0.91      0.91      2177\n",
            "\n"
          ]
        }
      ]
    },
    {
      "cell_type": "markdown",
      "source": [
        "## Вывод результатов\n"
      ],
      "metadata": {
        "id": "DVTxUyUJ77o8"
      }
    },
    {
      "cell_type": "markdown",
      "source": [
        "Выведем 50 твитов и результаты предсказаний к каждому:"
      ],
      "metadata": {
        "id": "0GNCufgS8CRe"
      }
    },
    {
      "cell_type": "code",
      "source": [
        "for i in range(50):\n",
        "    print(f\"Твит: {test_df['text'].iloc[i]}\")\n",
        "    print(f\"Предсказание: {'Настоящая Катастрофа' if binary_predictions[i] else 'Фейк'}\\n\")"
      ],
      "metadata": {
        "colab": {
          "base_uri": "https://localhost:8080/"
        },
        "id": "immRcJc08TM1",
        "outputId": "e6cc7be3-259e-468c-c7bf-90e2050cd113"
      },
      "execution_count": null,
      "outputs": [
        {
          "output_type": "stream",
          "name": "stdout",
          "text": [
            "Твит: Just happened a terrible car crash\n",
            "Предсказание: Настоящая Катастрофа\n",
            "\n",
            "Твит: Heard about #earthquake is different cities, stay safe everyone.\n",
            "Предсказание: Настоящая Катастрофа\n",
            "\n",
            "Твит: there is a forest fire at spot pond, geese are fleeing across the street, I cannot save them all\n",
            "Предсказание: Настоящая Катастрофа\n",
            "\n",
            "Твит: Apocalypse lighting. #Spokane #wildfires\n",
            "Предсказание: Настоящая Катастрофа\n",
            "\n",
            "Твит: Typhoon Soudelor kills 28 in China and Taiwan\n",
            "Предсказание: Настоящая Катастрофа\n",
            "\n",
            "Твит: We're shaking...It's an earthquake\n",
            "Предсказание: Настоящая Катастрофа\n",
            "\n",
            "Твит: They'd probably still show more life than Arsenal did yesterday, eh? EH?\n",
            "Предсказание: Фейк\n",
            "\n",
            "Твит: Hey! How are you?\n",
            "Предсказание: Фейк\n",
            "\n",
            "Твит: What a nice hat?\n",
            "Предсказание: Фейк\n",
            "\n",
            "Твит: Fuck off!\n",
            "Предсказание: Фейк\n",
            "\n",
            "Твит: No I don't like cold!\n",
            "Предсказание: Фейк\n",
            "\n",
            "Твит: NOOOOOOOOO! Don't do that!\n",
            "Предсказание: Фейк\n",
            "\n",
            "Твит: No don't tell me that!\n",
            "Предсказание: Фейк\n",
            "\n",
            "Твит: What if?!\n",
            "Предсказание: Фейк\n",
            "\n",
            "Твит: Awesome!\n",
            "Предсказание: Фейк\n",
            "\n",
            "Твит: Birmingham Wholesale Market is ablaze BBC News - Fire breaks out at Birmingham's Wholesale Market http://t.co/irWqCEZWEU\n",
            "Предсказание: Фейк\n",
            "\n",
            "Твит: @sunkxssedharry will you wear shorts for race ablaze ?\n",
            "Предсказание: Фейк\n",
            "\n",
            "Твит: #PreviouslyOnDoyinTv: Toke MakinwaÛªs marriage crisis sets Nigerian Twitter ablaze... http://t.co/CMghxBa2XI\n",
            "Предсказание: Настоящая Катастрофа\n",
            "\n",
            "Твит: Check these out: http://t.co/rOI2NSmEJJ http://t.co/3Tj8ZjiN21 http://t.co/YDUiXEfIpE http://t.co/LxTjc87KLS #nsfw\n",
            "Предсказание: Фейк\n",
            "\n",
            "Твит: PSA: IÛªm splitting my personalities.\n",
            "\n",
            "?? techies follow @ablaze_co\n",
            "?? Burners follow @ablaze\n",
            "Предсказание: Фейк\n",
            "\n",
            "Твит: beware world ablaze sierra leone &amp; guap.\n",
            "Предсказание: Фейк\n",
            "\n",
            "Твит: Burning Man Ablaze! by Turban Diva http://t.co/hodWosAmWS via @Etsy\n",
            "Предсказание: Фейк\n",
            "\n",
            "Твит: Not a diss song. People will take 1 thing and run with it. Smh it's an eye opener though. He is about 2 set the game ablaze @CyhiThePrynce\n",
            "Предсказание: Настоящая Катастрофа\n",
            "\n",
            "Твит: Rape victim dies as she sets herself ablaze: A 16-year-old girl died of burn injuries as she set herself ablazeÛ_ http://t.co/UK8hNrbOob\n",
            "Предсказание: Настоящая Катастрофа\n",
            "\n",
            "Твит: SETTING MYSELF ABLAZE http://t.co/6vMe7P5XhC\n",
            "Предсказание: Настоящая Катастрофа\n",
            "\n",
            "Твит: @CTVToronto the bins in front of the field by my house wer set ablaze the other day flames went rite up the hydro pole wonder if it was him\n",
            "Предсказание: Настоящая Катастрофа\n",
            "\n",
            "Твит: #nowplaying Alfons - Ablaze 2015 on Puls Radio #pulsradio http://t.co/aA5BJgWfDv\n",
            "Предсказание: Фейк\n",
            "\n",
            "Твит: 'Burning Rahm': Let's hope City Hall builds a giant wooden mayoral effigy 100 feet tall &amp; sets it ablaze. http://t.co/kFo2mksn6Y @John_Kass\n",
            "Предсказание: Настоящая Катастрофа\n",
            "\n",
            "Твит: @PhilippaEilhart @DhuBlath hurt but her eyes ablaze with insulted anger.\n",
            "Предсказание: Фейк\n",
            "\n",
            "Твит: Accident cleared in #PaTurnpike on PATP EB between PA-18 and Cranberry slow back to #traffic http://t.co/SL0Oqn0Vyr\n",
            "Предсказание: Настоящая Катастрофа\n",
            "\n",
            "Твит: Just got to love burning your self on a damn curling wand... I swear someone needs to take it away from me cuase I'm just accident prone.\n",
            "Предсказание: Фейк\n",
            "\n",
            "Твит: I hate badging shit in accident\n",
            "Предсказание: Настоящая Катастрофа\n",
            "\n",
            "Твит: #3: Car Recorder ZeroEdgeå¨ Dual-lens Car Camera Vehicle Traffic/Driving History/Accident Camcorder  Large Re... http://t.co/kKFaSJv6Cj\n",
            "Предсказание: Настоящая Катастрофа\n",
            "\n",
            "Твит: Coincidence Or #Curse? Still #Unresolved Secrets From Past http://t.co/7VG8Df9pLE #accident\n",
            "Предсказание: Фейк\n",
            "\n",
            "Твит: @Traffic_SouthE @roadpol_east Accident on A27 near Lewes is it Kingston Roundabout rather than A283\n",
            "Предсказание: Настоящая Катастрофа\n",
            "\n",
            "Твит: @sakuma_en If you pretend to feel a certain way the feeling can become genuine all by accident. -Hei (Darker than Black) #manga #anime\n",
            "Предсказание: Фейк\n",
            "\n",
            "Твит: For Legal and Medical Referral Service @1800_Injured Call us at: 1-800-465-87332 #accident #slipandfall #dogbite\n",
            "Предсказание: Фейк\n",
            "\n",
            "Твит: There's a construction guy working on the Disney store and he has huge gauges in his ears ?? ...that is a bloody accident waiting to happen\n",
            "Предсказание: Настоящая Катастрофа\n",
            "\n",
            "Твит: @RobynJilllian @WlSDOMTEETHS I feel like I'm going to do it on accident. Teesha is gonna come out??\n",
            "Предсказание: Фейк\n",
            "\n",
            "Твит: On the #M42 northbound between junctions J3 and J3A there are currently delays of 10 mins due to an accident c... http://t.co/LwI3prBa31\n",
            "Предсказание: Настоящая Катастрофа\n",
            "\n",
            "Твит: @DaveOshry @Soembie So if I say that I met her by accident this week- would you be super jelly Dave? :p\n",
            "Предсказание: Фейк\n",
            "\n",
            "Твит: ACCIDENT - HIT AND RUN - COLD at 500 BLOCK OF SE VISTA TER GRESHAM OR [Gresham Police #PG15000044357] 10:35 #pdx911\n",
            "Предсказание: Настоящая Катастрофа\n",
            "\n",
            "Твит: @Calum5SOS this happened on accident but I like it http://t.co/QHmXuljSX9\n",
            "Предсказание: Настоящая Катастрофа\n",
            "\n",
            "Твит: Please donate and spread the word! A training accident left the pole-vaulter Kira GrÌ_nberg a paraplegic http://t.co/6MpnyCl8PK\n",
            "Предсказание: Настоящая Катастрофа\n",
            "\n",
            "Твит: Please like and share our new page for our Indoor Trampoline Park Aftershock opening this fall!! http://t.co/UgXhHErrxS\n",
            "Предсказание: Фейк\n",
            "\n",
            "Твит: @bxckylynch foi no ROH Aftershock: Las Vegas procura no pirate bay que tem\n",
            "Предсказание: Настоящая Катастрофа\n",
            "\n",
            "Твит: Schoolboy ÛÒ Aftershock (Original Mix)\n",
            "Excision &amp; Skism ÛÒ SEXisM (Far Too Loud Remix)\n",
            "Firebeatz Schella ÛÒ Dear New... http://t.co/JQLzUA6YzQ\n",
            "Предсказание: Настоящая Катастрофа\n",
            "\n",
            "Твит: 320 [IR] ICEMOON [AFTERSHOCK] | http://t.co/THyzOMVWU0 | @djicemoon | #Dubstep #TrapMusic #DnB #EDM #Dance #IcesÛ_ http://t.co/83jOO0xk29\n",
            "Предсказание: Фейк\n",
            "\n",
            "Твит: 'When the aftershock happened (Nepal) we were the last int'l team still there; in a way we were 1st responders.' Chief Collins @LACo_FD\n",
            "Предсказание: Фейк\n",
            "\n",
            "Твит: 320 [IR] ICEMOON [AFTERSHOCK] | http://t.co/gRPeF7yAWG | @djicemoon | #Dubstep #TrapMusic #DnB #EDM #Dance #IcesÛ_ http://t.co/GGmvzT58vE\n",
            "Предсказание: Фейк\n",
            "\n"
          ]
        }
      ]
    },
    {
      "cell_type": "markdown",
      "source": [
        "Выведем график обучения модели:"
      ],
      "metadata": {
        "id": "Qb5PnoAq8iZZ"
      }
    },
    {
      "cell_type": "code",
      "source": [
        "train_accuracy = history.history['accuracy']\n",
        "val_accuracy = history.history['val_accuracy']\n",
        "\n",
        "plt.plot(train_accuracy, label='Точность обучения')\n",
        "plt.plot(val_accuracy, label='Точность валидации')\n",
        "plt.title('Точность в зависимости от эпохи')\n",
        "plt.xlabel('Эпохи')\n",
        "plt.ylabel('Точность')\n",
        "plt.legend()\n",
        "plt.show()"
      ],
      "metadata": {
        "colab": {
          "base_uri": "https://localhost:8080/",
          "height": 472
        },
        "id": "w5bvsd8t8mIj",
        "outputId": "6c81dec7-1c8e-45b7-c4be-dcb115222179"
      },
      "execution_count": null,
      "outputs": [
        {
          "output_type": "display_data",
          "data": {
            "text/plain": [
              "<Figure size 640x480 with 1 Axes>"
            ],
            "image/png": "[encoded data removed]"
          },
          "metadata": {}
        }
      ]
    },
    {
      "cell_type": "markdown",
      "source": [
        "Проверим пересечение:"
      ],
      "metadata": {
        "id": "a3OLVA-78m5K"
      }
    },
    {
      "cell_type": "code",
      "source": [
        "common_texts = set(train_df['text']).intersection(set(test_df['text']))\n",
        "print(f\"Общее количество пересечений текстов: {len(common_texts)}\")"
      ],
      "metadata": {
        "colab": {
          "base_uri": "https://localhost:8080/"
        },
        "id": "gs8SlRSG8sIp",
        "outputId": "d1febaee-5b3f-4081-d782-45d110559641"
      },
      "execution_count": null,
      "outputs": [
        {
          "output_type": "stream",
          "name": "stdout",
          "text": [
            "Общее количество пересечений текстов: 68\n"
          ]
        }
      ]
    },
    {
      "cell_type": "markdown",
      "source": [
        "Совпадение токенов:"
      ],
      "metadata": {
        "id": "LLybT6YB8x9b"
      }
    },
    {
      "cell_type": "code",
      "source": [
        "train_vocab = set(' '.join(train_df['text']).split())\n",
        "test_vocab = set(' '.join(test_df['text']).split())\n",
        "overlap = len(train_vocab.intersection(test_vocab)) / len(test_vocab) * 100\n",
        "print(f\"Совпадение токенов между обучением и тестом: {overlap:.2f}%\")"
      ],
      "metadata": {
        "colab": {
          "base_uri": "https://localhost:8080/"
        },
        "id": "oZNhS32P8zv7",
        "outputId": "98a7ae47-9cc1-4988-f737-a38005ca00a8"
      },
      "execution_count": null,
      "outputs": [
        {
          "output_type": "stream",
          "name": "stdout",
          "text": [
            "Совпадение токенов между обучением и тестом: 43.70%\n"
          ]
        }
      ]
    },
    {
      "cell_type": "markdown",
      "source": [
        "Вывод самой модели:"
      ],
      "metadata": {
        "id": "lJCCnYnH84pA"
      }
    },
    {
      "cell_type": "code",
      "source": [
        "model.summary()"
      ],
      "metadata": {
        "colab": {
          "base_uri": "https://localhost:8080/",
          "height": 255
        },
        "id": "85ojdTM986Pu",
        "outputId": "b15e3476-0191-407f-e8cf-f45ae42f35a8"
      },
      "execution_count": null,
      "outputs": [
        {
          "output_type": "display_data",
          "data": {
            "text/plain": [
              "\u001b[1mModel: \"sequential_1\"\u001b[0m\n"
            ],
            "text/html": [
              "<pre style=\"white-space:pre;overflow-x:auto;line-height:normal;font-family:Menlo,'DejaVu Sans Mono',consolas,'Courier New',monospace\"><span style=\"font-weight: bold\">Model: \"sequential_1\"</span>\n",
              "</pre>\n"
            ]
          },
          "metadata": {}
        },
        {
          "output_type": "display_data",
          "data": {
            "text/plain": [
              "┏━━━━━━━━━━━━━━━━━━━━━━━━━━━━━━━━━━━━━━┳━━━━━━━━━━━━━━━━━━━━━━━━━━━━━┳━━━━━━━━━━━━━━━━━┓\n",
              "┃\u001b[1m \u001b[0m\u001b[1mLayer (type)                        \u001b[0m\u001b[1m \u001b[0m┃\u001b[1m \u001b[0m\u001b[1mOutput Shape               \u001b[0m\u001b[1m \u001b[0m┃\u001b[1m \u001b[0m\u001b[1m        Param #\u001b[0m\u001b[1m \u001b[0m┃\n",
              "┡━━━━━━━━━━━━━━━━━━━━━━━━━━━━━━━━━━━━━━╇━━━━━━━━━━━━━━━━━━━━━━━━━━━━━╇━━━━━━━━━━━━━━━━━┩\n",
              "│ embedding_1 (\u001b[38;5;33mEmbedding\u001b[0m)              │ (\u001b[38;5;45mNone\u001b[0m, \u001b[38;5;34m200\u001b[0m, \u001b[38;5;34m100\u001b[0m)            │       \u001b[38;5;34m1,000,000\u001b[0m │\n",
              "├──────────────────────────────────────┼─────────────────────────────┼─────────────────┤\n",
              "│ gru (\u001b[38;5;33mGRU\u001b[0m)                            │ (\u001b[38;5;45mNone\u001b[0m, \u001b[38;5;34m64\u001b[0m)                  │          \u001b[38;5;34m31,872\u001b[0m │\n",
              "├──────────────────────────────────────┼─────────────────────────────┼─────────────────┤\n",
              "│ dense_1 (\u001b[38;5;33mDense\u001b[0m)                      │ (\u001b[38;5;45mNone\u001b[0m, \u001b[38;5;34m1\u001b[0m)                   │              \u001b[38;5;34m65\u001b[0m │\n",
              "└──────────────────────────────────────┴─────────────────────────────┴─────────────────┘\n"
            ],
            "text/html": [
              "<pre style=\"white-space:pre;overflow-x:auto;line-height:normal;font-family:Menlo,'DejaVu Sans Mono',consolas,'Courier New',monospace\">┏━━━━━━━━━━━━━━━━━━━━━━━━━━━━━━━━━━━━━━┳━━━━━━━━━━━━━━━━━━━━━━━━━━━━━┳━━━━━━━━━━━━━━━━━┓\n",
              "┃<span style=\"font-weight: bold\"> Layer (type)                         </span>┃<span style=\"font-weight: bold\"> Output Shape                </span>┃<span style=\"font-weight: bold\">         Param # </span>┃\n",
              "┡━━━━━━━━━━━━━━━━━━━━━━━━━━━━━━━━━━━━━━╇━━━━━━━━━━━━━━━━━━━━━━━━━━━━━╇━━━━━━━━━━━━━━━━━┩\n",
              "│ embedding_1 (<span style=\"color: #0087ff; text-decoration-color: #0087ff\">Embedding</span>)              │ (<span style=\"color: #00d7ff; text-decoration-color: #00d7ff\">None</span>, <span style=\"color: #00af00; text-decoration-color: #00af00\">200</span>, <span style=\"color: #00af00; text-decoration-color: #00af00\">100</span>)            │       <span style=\"color: #00af00; text-decoration-color: #00af00\">1,000,000</span> │\n",
              "├──────────────────────────────────────┼─────────────────────────────┼─────────────────┤\n",
              "│ gru (<span style=\"color: #0087ff; text-decoration-color: #0087ff\">GRU</span>)                            │ (<span style=\"color: #00d7ff; text-decoration-color: #00d7ff\">None</span>, <span style=\"color: #00af00; text-decoration-color: #00af00\">64</span>)                  │          <span style=\"color: #00af00; text-decoration-color: #00af00\">31,872</span> │\n",
              "├──────────────────────────────────────┼─────────────────────────────┼─────────────────┤\n",
              "│ dense_1 (<span style=\"color: #0087ff; text-decoration-color: #0087ff\">Dense</span>)                      │ (<span style=\"color: #00d7ff; text-decoration-color: #00d7ff\">None</span>, <span style=\"color: #00af00; text-decoration-color: #00af00\">1</span>)                   │              <span style=\"color: #00af00; text-decoration-color: #00af00\">65</span> │\n",
              "└──────────────────────────────────────┴─────────────────────────────┴─────────────────┘\n",
              "</pre>\n"
            ]
          },
          "metadata": {}
        },
        {
          "output_type": "display_data",
          "data": {
            "text/plain": [
              "\u001b[1m Total params: \u001b[0m\u001b[38;5;34m3,095,813\u001b[0m (11.81 MB)\n"
            ],
            "text/html": [
              "<pre style=\"white-space:pre;overflow-x:auto;line-height:normal;font-family:Menlo,'DejaVu Sans Mono',consolas,'Courier New',monospace\"><span style=\"font-weight: bold\"> Total params: </span><span style=\"color: #00af00; text-decoration-color: #00af00\">3,095,813</span> (11.81 MB)\n",
              "</pre>\n"
            ]
          },
          "metadata": {}
        },
        {
          "output_type": "display_data",
          "data": {
            "text/plain": [
              "\u001b[1m Trainable params: \u001b[0m\u001b[38;5;34m1,031,937\u001b[0m (3.94 MB)\n"
            ],
            "text/html": [
              "<pre style=\"white-space:pre;overflow-x:auto;line-height:normal;font-family:Menlo,'DejaVu Sans Mono',consolas,'Courier New',monospace\"><span style=\"font-weight: bold\"> Trainable params: </span><span style=\"color: #00af00; text-decoration-color: #00af00\">1,031,937</span> (3.94 MB)\n",
              "</pre>\n"
            ]
          },
          "metadata": {}
        },
        {
          "output_type": "display_data",
          "data": {
            "text/plain": [
              "\u001b[1m Non-trainable params: \u001b[0m\u001b[38;5;34m0\u001b[0m (0.00 B)\n"
            ],
            "text/html": [
              "<pre style=\"white-space:pre;overflow-x:auto;line-height:normal;font-family:Menlo,'DejaVu Sans Mono',consolas,'Courier New',monospace\"><span style=\"font-weight: bold\"> Non-trainable params: </span><span style=\"color: #00af00; text-decoration-color: #00af00\">0</span> (0.00 B)\n",
              "</pre>\n"
            ]
          },
          "metadata": {}
        },
        {
          "output_type": "display_data",
          "data": {
            "text/plain": [
              "\u001b[1m Optimizer params: \u001b[0m\u001b[38;5;34m2,063,876\u001b[0m (7.87 MB)\n"
            ],
            "text/html": [
              "<pre style=\"white-space:pre;overflow-x:auto;line-height:normal;font-family:Menlo,'DejaVu Sans Mono',consolas,'Courier New',monospace\"><span style=\"font-weight: bold\"> Optimizer params: </span><span style=\"color: #00af00; text-decoration-color: #00af00\">2,063,876</span> (7.87 MB)\n",
              "</pre>\n"
            ]
          },
          "metadata": {}
        }
      ]
    }
  ]
}